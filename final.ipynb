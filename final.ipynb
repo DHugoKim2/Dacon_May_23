{
 "cells": [
  {
   "cell_type": "code",
   "execution_count": null,
   "id": "4ad4fd27",
   "metadata": {},
   "outputs": [],
   "source": [
    "import pandas as pd\n",
    "import numpy as np\n",
    "import matplotlib.pyplot as plt\n",
    "import sklearn\n",
    "import datetime as dt\n",
    "import sys\n",
    "import scipy.stats as stats\n",
    "import urllib\n",
    "from statsmodels.formula.api import ols\n",
    "from statsmodels.stats.anova import anova_lm\n",
    "import torch\n",
    "from torch import cuda\n",
    "\n",
    "\n"
   ]
  },
  {
   "cell_type": "code",
   "execution_count": null,
   "id": "f0e3d616",
   "metadata": {},
   "outputs": [],
   "source": [
    "test = pd.read_csv(\"C:/vscode/open/test.csv\")\n",
    "train = pd.read_csv(\"C:/vscode/open/train.csv\")"
   ]
  },
  {
   "cell_type": "code",
   "execution_count": 6,
   "id": "eef1fe16",
   "metadata": {},
   "outputs": [
    {
     "data": {
      "text/html": [
       "<style>.container { width:80% !important; }</style>"
      ],
      "text/plain": [
       "<IPython.core.display.HTML object>"
      ]
     },
     "metadata": {},
     "output_type": "display_data"
    }
   ],
   "source": [
    "from IPython.display import display, HTML\n",
    "display(HTML(\"<style>.container { width:80% !important; }</style>\"))\n"
   ]
  },
  {
   "cell_type": "markdown",
   "id": "965b0737",
   "metadata": {},
   "source": [
    "해당 프로젝트는 NULL값이 내재된 데이터에서 결과를 예측하는 반지도학습 프로젝트였습니다.\n",
    "\n",
    "따라서 저도 결측값에 적절한 값을 배정하는 데에 가장 크게 중점을 두고 진행하였습니다.\n"
   ]
  },
  {
   "cell_type": "markdown",
   "id": "3fc0eec7",
   "metadata": {},
   "source": [
    "# 칼럼 관리"
   ]
  },
  {
   "cell_type": "code",
   "execution_count": null,
   "id": "c7466b6a",
   "metadata": {},
   "outputs": [],
   "source": [
    "columns = train.columns\n",
    "\n",
    "for i in columns:\n",
    "    print(\"unique {}:{}\".format(i, len(train[i].unique())))\n",
    "    print(\"count null {}:{}\".format(i, train[i].isnull().sum()))\n",
    "    print(\"\")"
   ]
  },
  {
   "cell_type": "markdown",
   "id": "4bfd5be1",
   "metadata": {},
   "source": [
    "ID 칼럼은 분석에 직접적으로 이용되는 칼럼이 아니므로 별도로 보관합니다."
   ]
  },
  {
   "cell_type": "markdown",
   "id": "b989e77a",
   "metadata": {},
   "source": [
    "TABLE의 칼럼들 중, CANCELLED(항공편 취소됨)과 DIVERTED(경유여부) 칼럼은 NULL도 없으며 모든 관측값들이 동일합니다. 따라서 분석에 영향을 주지 못한다고 판단하여 해당 칼럼을 제거하였습니다."
   ]
  },
  {
   "cell_type": "markdown",
   "id": "37487d23",
   "metadata": {},
   "source": [
    "또한, 컬럼들 중 Origin_Airport(출발 공항)와 Origin_Airport_ID(출발 공항 ID), Destination_Airport(도착 공항)와 Destination_Airport_ID(도착 공항 ID)는 각기 같은 값을 지칭합니다. 더욱이, Airline(항공사), Carrier_Code(IATA)(항공사 코드), Carrier_Code(DOT)값 역시 모두 같은 값들을 지칭합니다.\n",
    "\n",
    "이에, 역시 해당 칼럼들도 Origin_Airport, Destination_Airport, Airline만을 빼고 모두 제거합니다. 다만, Carrier와 관련된 종류들은 이후 Airline의 결측을 메우는 데 사용할 수 있기 때문에 남겨둡니다."
   ]
  },
  {
   "cell_type": "markdown",
   "id": "0766ed80",
   "metadata": {},
   "source": [
    "따라서, 분석은 날짜(월+일), 시간(하루중 시간), 공항(출발-도착), 주(출발-도착), 항공사, 기종, 거리의 총 7가지 변수를 중심으로 이루어집니다. "
   ]
  },
  {
   "cell_type": "code",
   "execution_count": null,
   "id": "b5f68d57",
   "metadata": {},
   "outputs": [],
   "source": [
    "ID = train['ID']\n",
    "\n",
    "train.drop(columns = ['ID', 'Origin_Airport_ID', 'Destination_Airport_ID', 'Cancelled', 'Diverted'], inplace=True)"
   ]
  },
  {
   "cell_type": "code",
   "execution_count": null,
   "id": "7a00c44b",
   "metadata": {},
   "outputs": [],
   "source": [
    "train.columns"
   ]
  },
  {
   "cell_type": "markdown",
   "id": "db3a3849",
   "metadata": {},
   "source": [
    "이들 중, NULL이 다수 포함된 칼럼은 Estimated_Departure_Time, 'Estimated_Arrival_Time', 'Origin_State', 'Destination_State', 'Airline'의 다섯 칼럼입니다. "
   ]
  },
  {
   "cell_type": "markdown",
   "id": "acc3e7cc",
   "metadata": {},
   "source": [
    "# Time칼럼 분단위 변환"
   ]
  },
  {
   "cell_type": "markdown",
   "id": "12921756",
   "metadata": {},
   "source": [
    "테이블 내의 칼럼들 중, Estimated_Departure_Time과 Estimated_Arrival_Time은 각 출발시간과 도착시간입니다. 이들 칼럼은 HH:MM의 꼴로 되어 있습니다. 예를 들어, 6시 00분이라면 600, 저녁 6시 20분이라면 1820입니다. \n",
    "이를 바로 시간으로 바꾸어도 되지만, 이후 null값에 대한 계산상 편의를 위해 일단 분단위 시간으로 바꾸어주었습니다(그냥 제가 이게 더 직관적이어서 편하더라구요). 각 변환 시간의 배정 칼럼은 edt, eat로 설정하였습니다."
   ]
  },
  {
   "cell_type": "code",
   "execution_count": null,
   "id": "7244d3bb",
   "metadata": {},
   "outputs": [],
   "source": [
    "i = 0\n",
    "while i < len(train['Estimated_Departure_Time']):\n",
    "    if train.loc[i, 'Estimated_Departure_Time'] > 0:\n",
    "        train.loc[i, 'edt'] = (train.loc[i, 'Estimated_Departure_Time']//100)*60 + train.loc[i, 'Estimated_Departure_Time']%100\n",
    "    i += 1"
   ]
  },
  {
   "cell_type": "code",
   "execution_count": null,
   "id": "59a1a5a1",
   "metadata": {},
   "outputs": [],
   "source": [
    "i = 0\n",
    "while i < len(train['Estimated_Arrival_Time']):\n",
    "    if train.loc[i, 'Estimated_Arrival_Time'] > 0:\n",
    "        train.loc[i, 'eat'] = (train.loc[i, 'Estimated_Arrival_Time']//100)*60 + train.loc[i, 'Estimated_Arrival_Time']%100\n",
    "    i += 1"
   ]
  },
  {
   "cell_type": "markdown",
   "id": "4eae801d",
   "metadata": {},
   "source": [
    "이후, 빈칸을 채우는 데 활용할 수 있도록, eat칼럼에 대한 변형 작업을 거칩니다.\n",
    "eat < edt라면, 시간대가 변하지 않았다는 가정 하에서는 24시를 넘겨 다음날 도착했다고 보는 것이 타당하므로 해당 조건의 값들에 1440(하루를 분으로 표현)을 더해줍니다."
   ]
  },
  {
   "cell_type": "code",
   "execution_count": null,
   "id": "7f45a564",
   "metadata": {},
   "outputs": [],
   "source": [
    "i = 0\n",
    "while i <= 999999:\n",
    "    if train.loc[i, 'eat'] - train.loc[i, 'edt'] < 0:\n",
    "        train.loc[i, 'eat'] += 1440\n",
    "    i += 1"
   ]
  },
  {
   "cell_type": "markdown",
   "id": "4ab8467a",
   "metadata": {},
   "source": [
    "# 날짜(월, 일)칼럼 D(eparture)와 A로 별도 분리"
   ]
  },
  {
   "cell_type": "markdown",
   "id": "7b0bb557",
   "metadata": {},
   "source": [
    "추가로, 세분화해서 활용 가능하도록, Month와 Day_of_Month를 도착일자와 출발일자로 분리합니다. 출발 일자는 변경이 없겠지만, 도착일자는 위의 조건과 같은 상황에 따라 변동이 가능합니다."
   ]
  },
  {
   "cell_type": "code",
   "execution_count": null,
   "id": "d8fb9af3",
   "metadata": {},
   "outputs": [],
   "source": [
    "train['dmonth'] = train['Month']\n",
    "train['dday'] = train['Day_of_Month']"
   ]
  },
  {
   "cell_type": "code",
   "execution_count": null,
   "id": "db03d0d5",
   "metadata": {},
   "outputs": [],
   "source": [
    "train['amonth'] = train['Month']\n",
    "train['aday'] = train['Day_of_Month']"
   ]
  },
  {
   "cell_type": "markdown",
   "id": "34296a5f",
   "metadata": {},
   "source": [
    "# Airport 칼럼을 통해서 States 칼럼 결측값 메우기"
   ]
  },
  {
   "cell_type": "markdown",
   "id": "1a91f490",
   "metadata": {},
   "source": [
    "결측값이 있는 데이터는 전체 데이터중 주, 시간, 항공사이며, 결측값이 없는 데이터는 거리, 공항, 기종, 날짜입니다. 해당 데이터들 중, 주 데이터의 경우는 공항 데이터 값이 Unique 성질을 가지므로(제가 알기론 그렇습니다. 잘은 모릅니다), 공항 데이터를 통하여 주 데이터의 결측값을 메울 수 있으리라 예상하였습니다."
   ]
  },
  {
   "cell_type": "markdown",
   "id": "463b89d1",
   "metadata": {},
   "source": [
    "이에, 주별로 공항 데이터를 groupby하여 주 결측값이 있는 데이터에 공항을 통해 주값을 메워주도록 하였습니다. OS(Origin_State)와 DS(Destination_State)를 통해 값을 배정하였습니다."
   ]
  },
  {
   "cell_type": "code",
   "execution_count": null,
   "id": "7a6342cb",
   "metadata": {},
   "outputs": [],
   "source": [
    "OS = train.groupby('Origin_State')['Origin_Airport'].unique().reset_index()\n",
    "DS = train.groupby(\"Destination_State\")['Destination_Airport'].unique().reset_index()"
   ]
  },
  {
   "cell_type": "code",
   "execution_count": null,
   "id": "7ef16da1",
   "metadata": {},
   "outputs": [],
   "source": [
    "type(OS['Origin_Airport'])"
   ]
  },
  {
   "cell_type": "code",
   "execution_count": null,
   "id": "c0bee640",
   "metadata": {},
   "outputs": [],
   "source": [
    "i = 0\n",
    "while i <= 999999:\n",
    "    j = 0\n",
    "    if isinstance(train.loc[i, 'Origin_State'], float):\n",
    "        while j < 52:\n",
    "            if train.loc[i, 'Origin_Airport'] in list(OS.loc[j, 'Origin_Airport']):\n",
    "                train.loc[i, 'Origin_State'] = OS.loc[j, 'Origin_State']\n",
    "            j += 1\n",
    "    i += 1"
   ]
  },
  {
   "cell_type": "code",
   "execution_count": null,
   "id": "90b7f304",
   "metadata": {},
   "outputs": [],
   "source": [
    "i = 0\n",
    "while i <= 999999:\n",
    "    j = 0\n",
    "    if isinstance(train.loc[i, 'Destination_State'], float):\n",
    "        while j < 52:\n",
    "            if train.loc[i, 'Destination_Airport'] in list(DS.loc[j, 'Destination_Airport']):\n",
    "                train.loc[i, 'Destination_State'] = DS.loc[j, 'Destination_State']\n",
    "            j += 1\n",
    "    i += 1"
   ]
  },
  {
   "cell_type": "markdown",
   "id": "e23488ed",
   "metadata": {},
   "source": [
    "이렇게 하면 아무래도 100만개짜리 파일이니 어딘가엔 반드시 매칭되는 공항 정보와 주 정보가 있을 것이고, null값을 처리할 수 있을 거라 봅니다. 그러면 이제 train의 null 정보를 확인해보도록 하겠습니다."
   ]
  },
  {
   "cell_type": "code",
   "execution_count": null,
   "id": "3bd6fe9a",
   "metadata": {},
   "outputs": [],
   "source": [
    "train[['Origin_State', 'Destination_State']].isnull().sum()"
   ]
  },
  {
   "cell_type": "markdown",
   "id": "7cb3634e",
   "metadata": {},
   "source": [
    "?"
   ]
  },
  {
   "cell_type": "markdown",
   "id": "6280b3de",
   "metadata": {},
   "source": [
    "혹시 OS에만 있는 공항 정보인가 하여 Destination_State의 null 정보를 origin 정보를 통해 처리해보겠습니다.\n",
    "생각해보니 진작에 통합할걸 그랬네요"
   ]
  },
  {
   "cell_type": "code",
   "execution_count": null,
   "id": "71f38161",
   "metadata": {},
   "outputs": [],
   "source": [
    "i = 0\n",
    "while i <= 999999:\n",
    "    j = 0\n",
    "    if isinstance(train.loc[i, 'Destination_State'], float):\n",
    "        while j < 52:\n",
    "            if train.loc[i, 'Destination_Airport'] in list(OS.loc[j, 'Origin_Airport']):\n",
    "                train.loc[i, 'Destination_State'] = DS.loc[j, 'Origin_State']\n",
    "            j += 1\n",
    "    i += 1"
   ]
  },
  {
   "cell_type": "markdown",
   "id": "52cf3abb",
   "metadata": {},
   "source": [
    "이제는 해결 됐겠죠. 한번 보죠."
   ]
  },
  {
   "cell_type": "code",
   "execution_count": null,
   "id": "05505143",
   "metadata": {},
   "outputs": [],
   "source": [
    "train[['Origin_State', 'Destination_State']].isnull().sum()"
   ]
  },
  {
   "cell_type": "markdown",
   "id": "8ab7e25e",
   "metadata": {},
   "source": [
    "?"
   ]
  },
  {
   "cell_type": "markdown",
   "id": "69f0d19e",
   "metadata": {},
   "source": [
    "한번 뭐가 문제인지 찾아보도록 하겠습니다."
   ]
  },
  {
   "cell_type": "code",
   "execution_count": null,
   "id": "b1ef4b70",
   "metadata": {},
   "outputs": [],
   "source": [
    "train[train['Destination_State'].isnull()]"
   ]
  },
  {
   "cell_type": "markdown",
   "id": "58c17e4f",
   "metadata": {},
   "source": [
    "YNG라는 공항이네요. 묘하게 YG ent.가 생각나는 네이밍인데 저만 그런가요? 아무튼 해당 공항을 한번 전체 데이터에서 찾아보겠습니다."
   ]
  },
  {
   "cell_type": "code",
   "execution_count": null,
   "id": "ec767ea3",
   "metadata": {},
   "outputs": [],
   "source": [
    "train[train['Origin_Airport'] == 'YNG']"
   ]
  },
  {
   "cell_type": "code",
   "execution_count": null,
   "id": "3de130fb",
   "metadata": {},
   "outputs": [],
   "source": [
    "train[train['Destination_Airport'] == 'YNG']"
   ]
  },
  {
   "cell_type": "markdown",
   "id": "b3259961",
   "metadata": {},
   "source": [
    "예 이것밖에 없네요.\n",
    "\n",
    "무슨 공항인가 해서 구글신에게 여쭤보니 Youngstown-Warren Regional Airport라고 하는 곳이라고 합니다. 진짜 살면서 처음 들어본 공항인데, 오하이오주라는 곳에 있다고 하네요. 저는 오하이오라는 주를 제가 직접 타이핑해본게 처음인거같은데 아무튼 그렇습니다. 더군다나 지역 공항이라 더 항공편수가 작은것같기도 합니다.\n",
    "\n",
    "Dacon 룰 내에서 외부 정보를 활용하는건 규칙 위반이니 이후에 가능하면 항공사정보를 추출해서 가능한 값으로, 불가능하면 그냥 주별 최빈값으로 채워주도록 하겠습니다. 아마 후자라면 뉴욕 아니면 캘리포니아일것같네요."
   ]
  },
  {
   "cell_type": "markdown",
   "id": "5b4a8bff",
   "metadata": {},
   "source": [
    "# time 칼럼 결측"
   ]
  },
  {
   "cell_type": "markdown",
   "id": "1df00fe0",
   "metadata": {},
   "source": [
    "하여튼 주는 채웠고, 남은 값들은 항공사, 시간(time) 값이 되겠네요. \n",
    "우선 시간 값을 먼저 채워 보려고 합니다. 아까 Estimated_Departure|Arrival_Time 값을 분단위로 변환해서 edt, eat 값으로 변환했었는데, 이 값을 토대로 State별로의 이동 시간을 추적해서 빈 값을 채워넣으려고 합니다. 거리 정보는 모든 값이 다 있으니 그냥 사용할까도 생각했지만, 아무래도 꽤 큰 값이 있는거같던데, 잘못 들어간 값이 있을 수 있으니 한번 확인을 해 주고 가 볼까 합니다.\n",
    "\n",
    "이후에는 여기에 더해서, Distance와 평균 시간당 이동을 통해서 별도의 소요시간 컬럼을 작성하려고 합니다. 아무래도 시차가 낀 데이터라 갑갑하네요.\n",
    "\n",
    "우선은 Distance부터 한번 정리하겠습니다."
   ]
  },
  {
   "cell_type": "code",
   "execution_count": null,
   "id": "a1ede1a8",
   "metadata": {},
   "outputs": [],
   "source": [
    "train.describe()"
   ]
  },
  {
   "cell_type": "code",
   "execution_count": null,
   "id": "e2839a40",
   "metadata": {},
   "outputs": [],
   "source": [
    "plt.hist(train['Distance'], bins=50)"
   ]
  },
  {
   "cell_type": "markdown",
   "id": "f32ebdef",
   "metadata": {},
   "source": [
    "보면 Distance의 대부분의 값들은 1100 안쪽으로, 일부 값들은 3천이 약간 안되는 값들이 있고, 이후 아주 극소수의 값들이 3천대, 그리고 최대로 5천이 약간 넘는 값이 있음을 확인 가능합니다. 한번 해당 값들을 살펴보겠습니다."
   ]
  },
  {
   "cell_type": "code",
   "execution_count": null,
   "id": "bd684c64",
   "metadata": {},
   "outputs": [],
   "source": [
    "train[train['Distance']>3000].head(50)"
   ]
  },
  {
   "cell_type": "markdown",
   "id": "019dc269",
   "metadata": {},
   "source": [
    "살펴보니 텍사스에서 알래스카를 간다든가, 콜로라도에서 하와이를 간다든가 하는 값이네요. 특별히 값 자체로 이상할건 없지 않나 생각을 합니다. 한번 회귀식에 적합해보고, 영향력관찰치로 보이면 제거하고 Distance>3000의 값들에 대해서는 값을 별도로 배정한다든가 하겠습니다."
   ]
  },
  {
   "cell_type": "markdown",
   "id": "a3a5b323",
   "metadata": {},
   "source": [
    "앞서 edt와 eat로 만든 값들에 대해서, 소요시간 항목을 따로 만들고 해당 값들에 대해서 Distance값들을 추적해 회귀식을 적합해보도록 하겠읍니다."
   ]
  },
  {
   "cell_type": "code",
   "execution_count": null,
   "id": "32e06239",
   "metadata": {},
   "outputs": [],
   "source": [
    "i = 0\n",
    "while i < 999999:\n",
    "    if train.loc[i, 'edt'] > 0 and train.loc[i, 'eat'] > 0 :\n",
    "        train.loc[i, 'time'] = train.loc[i, 'eat'] - train.loc[i, 'edt']\n",
    "    i += 1\n",
    "    "
   ]
  },
  {
   "cell_type": "markdown",
   "id": "f1e09689",
   "metadata": {},
   "source": [
    "이제 값이 생성되었으니 해당 값으로 scatter를 그려서 확인해보겠습니다."
   ]
  },
  {
   "cell_type": "code",
   "execution_count": null,
   "id": "cbaa148a",
   "metadata": {},
   "outputs": [],
   "source": [
    "plt.scatter( train[train['time'].notnull()][['Distance', 'time']]['Distance'], train[train['time'].notnull()][['Distance', 'time']]['time'])"
   ]
  },
  {
   "cell_type": "markdown",
   "id": "dd86ec75",
   "metadata": {},
   "source": [
    "엄\n",
    "\n",
    "왼쪽 위에 저건 뭐지?\n",
    "\n",
    "아무튼 크게 두 갈래로 갈라지는데, 아마 제 생각엔 타임존을 역행하는지, 타임존 방향으로 나아가는지가 문제가 아닌가 생각이 드네요. 데이콘 규칙상 외부 정보를 사용할수가 없어서 참 메우기 아쉬운 부분이 있습니다. \n",
    "\n",
    "왼쪽 위에 것들은 거리는 극단적으로 짧은데, 시간 소요는 극히 긴 것으로 보아서는 아무래도 time zone을 역행할 때 비행기가 시간선보다 먼저 도착한 케이스(그래서 1시간이 안되게 도착한 케이스)라고 보여지는데, 이게 실제로 되는건지 어떤지는 잘 모르겠네요. 미국에 안살아봐서."
   ]
  },
  {
   "cell_type": "code",
   "execution_count": null,
   "id": "db56b7b0",
   "metadata": {},
   "outputs": [],
   "source": [
    "train[train['time']>1400]"
   ]
  },
  {
   "cell_type": "markdown",
   "id": "7b45a51b",
   "metadata": {},
   "source": [
    "보면 거리상 해당 시간이 나올 수가 없는 구조로 되어 있네요. 아무래도 Estimated_Departure_Time과 Estimated_Arrival_Time이 뒤바뀐거 아니면 시차 timezone을 역행해서 간게 문제가 아닌가 생각이 들긴 하네요.\n",
    "\n",
    "그래도 괜찮습니다. 어차피 상술하였듯 별도 컬럼을 생성할거기 때문에"
   ]
  },
  {
   "cell_type": "markdown",
   "id": "2f4716d1",
   "metadata": {},
   "source": [
    "우선은 train의 origin_state와 destination_state별로 시간을 새로 설정해야겠습니다. "
   ]
  },
  {
   "cell_type": "code",
   "execution_count": null,
   "id": "150dc750",
   "metadata": {},
   "outputs": [],
   "source": [
    "distance = train.groupby(['Origin_State', 'Destination_State'])['Distance'].mean().reset_index()"
   ]
  },
  {
   "cell_type": "code",
   "execution_count": null,
   "id": "7f2dbbb6",
   "metadata": {},
   "outputs": [],
   "source": [
    "deptimes = train.groupby([\"Origin_State\", \"Destination_State\"])['edt'].mean().reset_index()"
   ]
  },
  {
   "cell_type": "code",
   "execution_count": null,
   "id": "37c85d98",
   "metadata": {},
   "outputs": [],
   "source": [
    "atimes = train.groupby(['Origin_State', 'Destination_State'])['eat'].mean().reset_index()"
   ]
  },
  {
   "cell_type": "code",
   "execution_count": null,
   "id": "7616d7be",
   "metadata": {},
   "outputs": [],
   "source": [
    "distance = distance.merge(deptimes, how='left', on = ['Origin_State', 'Destination_State']).merge(atimes, how='left', on=['Origin_State', 'Destination_State'])"
   ]
  },
  {
   "cell_type": "code",
   "execution_count": null,
   "id": "0fb9256d",
   "metadata": {},
   "outputs": [],
   "source": [
    "distance['times'] = distance['eat']-distance['edt']"
   ]
  },
  {
   "cell_type": "code",
   "execution_count": null,
   "id": "9a7daabc",
   "metadata": {},
   "outputs": [],
   "source": [
    "list((set(distance[distance['Origin_State']=='California'].index)\\\n",
    "      &set(distance[distance['Destination_State']=='Texas'].index)))[0]"
   ]
  },
  {
   "cell_type": "code",
   "execution_count": null,
   "id": "0b7039b7",
   "metadata": {},
   "outputs": [],
   "source": [
    "distance"
   ]
  },
  {
   "cell_type": "code",
   "execution_count": null,
   "id": "efdd959c",
   "metadata": {},
   "outputs": [],
   "source": [
    "train"
   ]
  },
  {
   "cell_type": "code",
   "execution_count": null,
   "id": "f8c00b91",
   "metadata": {},
   "outputs": [],
   "source": [
    "distance[distance['Destination_State']==train.loc[5, 'Destination_State']]"
   ]
  },
  {
   "cell_type": "markdown",
   "id": "f6329d6b",
   "metadata": {},
   "source": [
    "# 위 times 컬럼으로 edt, eat 컬럼 결측값 배정"
   ]
  },
  {
   "cell_type": "code",
   "execution_count": null,
   "id": "ab97b4bd",
   "metadata": {},
   "outputs": [],
   "source": [
    "i = 0\n",
    "while i <= 999999:\n",
    "    if train.loc[i, 'edt'] > 0:\n",
    "        pass\n",
    "    else : \n",
    "        if train.loc[i, 'eat'] > 0:\n",
    "            if len(list(set(distance[distance['Origin_State']==train.loc[i, 'Origin_State']].index)&set(distance[distance['Destination_State']==train.loc[i, 'Destination_State']].index))) != 0:\n",
    "                train.loc[i, 'edt'] = train.loc[i, 'eat'] - distance.loc[list(set(distance[distance['Origin_State']==train.loc[i, 'Origin_State']].index)&set(distance[distance['Destination_State']==train.loc[i, 'Destination_State']].index))[0], 'times']\n",
    "            else:\n",
    "                pass\n",
    "    i += 1"
   ]
  },
  {
   "cell_type": "code",
   "execution_count": null,
   "id": "a74e3874",
   "metadata": {},
   "outputs": [],
   "source": [
    "i = 0\n",
    "while i <= 999999:\n",
    "    if train.loc[i, 'eat'] > 0:\n",
    "        pass\n",
    "    else : \n",
    "        if train.loc[i, 'edt'] > 0:\n",
    "            if len(list(set(distance[distance['Origin_State']==train.loc[i, 'Origin_State']].index)&set(distance[distance['Destination_State']==train.loc[i, 'Destination_State']].index))) != 0:\n",
    "                train.loc[i, 'eat'] = train.loc[i, 'edt'] + distance.loc[list(set(distance[distance['Origin_State']==train.loc[i, 'Origin_State']].index)&set(distance[distance\\\n",
    "                ['Destination_State']==train.loc[i, 'Destination_State']].index))[0], 'times']\n",
    "            else:\n",
    "                pass\n",
    "    i += 1"
   ]
  },
  {
   "cell_type": "markdown",
   "id": "0c065aea",
   "metadata": {},
   "source": [
    "얼추 정리가 된것같으니 다시 한번 보겠습니다"
   ]
  },
  {
   "cell_type": "code",
   "execution_count": null,
   "id": "36b21864",
   "metadata": {},
   "outputs": [],
   "source": [
    "train.isnull().sum()"
   ]
  },
  {
   "cell_type": "code",
   "execution_count": null,
   "id": "4e80a208",
   "metadata": {},
   "outputs": [],
   "source": [
    "from sklearn.linear_model import LinearRegression\n",
    "\n",
    "model = LinearRegression(fit_intercept=False)\n",
    "\n",
    "model.fit(pd.DataFrame(train[train['time'].notnull()][['Distance', 'time']]['time']), pd.DataFrame(train[train['time'].notnull()][['Distance', 'time']]['Distance']))\n",
    "\n",
    "print(model.coef_)\n",
    "print(model.intercept_)"
   ]
  },
  {
   "cell_type": "markdown",
   "id": "40b9fc32",
   "metadata": {},
   "source": [
    "보면 얼추 coef가 5.3? 5.4? 이정도 나오네요. 분당 얼추 5.3~4마일정도(얼추 10km 좀 안되게) 간다는 이야기인데, 비행기의 속도를 생각해보면 이상하지는 않은 것 같습니다. 제가 항공기 기기나 엔지니어링 자체에 엄청 관심이 많지는 않아서, 틀릴지도 모르겠습니다. 하여튼, 얼추 이 값을 토대로 결측을 메워주도록 하겠습니다."
   ]
  },
  {
   "cell_type": "code",
   "execution_count": null,
   "id": "c8514941",
   "metadata": {},
   "outputs": [],
   "source": [
    "train"
   ]
  },
  {
   "cell_type": "code",
   "execution_count": null,
   "id": "95ce2b7c",
   "metadata": {},
   "outputs": [],
   "source": [
    "dpm = 5.38393855"
   ]
  },
  {
   "cell_type": "code",
   "execution_count": null,
   "id": "351d4a99",
   "metadata": {},
   "outputs": [],
   "source": [
    "train['time'] = train['Distance']/dpm"
   ]
  },
  {
   "cell_type": "code",
   "execution_count": null,
   "id": "d65de25a",
   "metadata": {},
   "outputs": [],
   "source": [
    "i = 0\n",
    "while i <= 999999:\n",
    "    if train.loc[i, 'edt'] < 0:\n",
    "        train.loc[i, 'edt'] += 1440\n",
    "        train.loc[i, 'eat'] += 1440\n",
    "    i += 1"
   ]
  },
  {
   "cell_type": "markdown",
   "id": "46816a89",
   "metadata": {},
   "source": [
    "해결이 됐으니 정수로 바꿔주도록 합시다"
   ]
  },
  {
   "cell_type": "code",
   "execution_count": null,
   "id": "981fde22",
   "metadata": {},
   "outputs": [],
   "source": [
    "i = 0\n",
    "while i <= 999999:\n",
    "    if train.loc[i, 'edt'] > 0:\n",
    "        train.loc[i, 'eat'] = round(train.loc[i, 'eat'])\n",
    "        train.loc[i, 'edt'] = round(train.loc[i, 'edt'])\n",
    "    i += 1"
   ]
  },
  {
   "cell_type": "code",
   "execution_count": null,
   "id": "1243bb65",
   "metadata": {},
   "outputs": [],
   "source": [
    "train.to_csv(\"C:/vscode/open/final/training.csv\")"
   ]
  },
  {
   "cell_type": "markdown",
   "id": "babd754b",
   "metadata": {},
   "source": [
    "이후로도 time에는 한 만개정도의 결측값이 있지만, 당장 뭔가를 할 수는 없는 부분이라 생각합니다. 학습시켜서 자동으로 채우라고 할 수도 있지만 제가 blackbox식으로 채워지는걸 그렇게 좋아하지가 않아서, 나중에 다른 값들을 보고 결정해야 할 것 같아요.\n",
    "\n",
    "그런 의미에서 일단은 주와 시간을 얼추 해결했으니, 남은 결측치인 항공사를 메워볼까 합니다. "
   ]
  },
  {
   "cell_type": "markdown",
   "id": "c5e278b7",
   "metadata": {},
   "source": [
    "항공사를 채우는 경우, 이미 주어진 값인 공항과 tail_number값을 통해서 채워볼까 합니다. \n",
    "\n",
    "공항별로 항공사를 groupby하고, tailnumber별로 항공사를 groupby한 후, 둘의 교집합이 있다면 그 중 하나를, 없다면 공항별 groupby된 것에서 하나를 뽑을까 합니다. "
   ]
  },
  {
   "cell_type": "code",
   "execution_count": null,
   "id": "270e359e",
   "metadata": {},
   "outputs": [],
   "source": [
    "oa = train.groupby('Origin_Airport')['Airline'].unique().reset_index().dropna()"
   ]
  },
  {
   "cell_type": "code",
   "execution_count": null,
   "id": "33efc7a9",
   "metadata": {},
   "outputs": [],
   "source": [
    "da = train.groupby('Destination_Airport')['Airline'].unique().reset_index().dropna()"
   ]
  },
  {
   "cell_type": "code",
   "execution_count": null,
   "id": "e3bcd20d",
   "metadata": {},
   "outputs": [],
   "source": [
    "ta = train.groupby('Tail_Number')['Airline'].unique().reset_index().dropna()"
   ]
  },
  {
   "cell_type": "code",
   "execution_count": null,
   "id": "7433dbf1",
   "metadata": {},
   "outputs": [],
   "source": [
    "import random"
   ]
  },
  {
   "cell_type": "code",
   "execution_count": null,
   "id": "c83aaaef",
   "metadata": {},
   "outputs": [],
   "source": [
    "oairlineairport = train.groupby('Origin_Airport')['Airline'].unique().reset_index()\n",
    "\n",
    "dairlineairport = train.groupby('Destination_Airport')['Airline'].unique().reset_index()"
   ]
  },
  {
   "cell_type": "code",
   "execution_count": null,
   "id": "9d346816",
   "metadata": {},
   "outputs": [],
   "source": [
    "carr_id = train.groupby('Carrier_ID(DOT)')['Airline'].unique().reset_index()"
   ]
  },
  {
   "cell_type": "code",
   "execution_count": null,
   "id": "88cba235",
   "metadata": {},
   "outputs": [],
   "source": [
    "ccod = train.groupby(\"Carrier_Code(IATA)\")['Airline'].unique().reset_index()"
   ]
  },
  {
   "cell_type": "code",
   "execution_count": null,
   "id": "31f5758c",
   "metadata": {},
   "outputs": [],
   "source": [
    "i = 0\n",
    "while i <= 999999:\n",
    "    j = 0\n",
    "    k = 0\n",
    "    l = 0\n",
    "    if isinstance(train.loc[i, 'Airline'], float):\n",
    "        \n",
    "        while j < len(oairlineairport['Origin_Airport']):\n",
    "            if train.loc[i, 'Origin_Airport'] == oairlineairport.loc[j, 'Origin_Airport']:\n",
    "                \n",
    "                while k < len(dairlineairport['Destination_Airport']):\n",
    "                    \n",
    "                    if train.loc[i, 'Destination_Airport'] == dairlineairport.loc[k, 'Destination_Airport']:\n",
    "                        \n",
    "                        while l < len(carr_id['Carrier_ID(DOT)']) :\n",
    "                            if train.loc[i, 'Carrier_ID(DOT)'] == carr_id.loc[l, 'Carrier_ID(DOT)']:\n",
    "                                \n",
    "                                train.loc[i, 'Airline'] = list(set(oairlineairport.loc[j, 'Airline'])&set(dairlineairport.loc[k, 'Airline'])&set(carr_id.loc[l, 'Airline']))[random.randint(0, (len(set(oairlineairport.loc[j, 'Airline'])&set(dairlineairport.loc[k, 'Airline'])&set(carr_id.loc[l, 'Airline']))-1))]\n",
    "                                break\n",
    "                                \n",
    "                            l += 1\n",
    "                        break\n",
    "                        \n",
    "                    k += 1\n",
    "                break\n",
    "                \n",
    "            j += 1\n",
    "    i += 1"
   ]
  },
  {
   "cell_type": "code",
   "execution_count": null,
   "id": "1db9cac0",
   "metadata": {},
   "outputs": [],
   "source": [
    "i = 0\n",
    "while i <= 999999:\n",
    "    j = 0\n",
    "    if isinstance(train.loc[i, 'Airline'], float):\n",
    "        while j < len(oa['Origin_Airport']):\n",
    "            k = 0\n",
    "            if oa.loc[j, 'Origin_Airport'] == train.loc[i, 'Origin_Airport']:\n",
    "                while k < len(da['Destination_Airport']):\n",
    "                    l = 0\n",
    "                    if da.loc[k, 'Destination_Airport'] == train.loc[i, 'Destination_Airport']:\n",
    "                        \n",
    "                        while l < len(ta['Tail_Number']):\n",
    "                            if ta.loc[l, 'Tail_Number'] == train.loc[i, 'Tail_Number']:\n",
    "                                if len(set(oa.loc[j, 'Airline'])&set(da.loc[k, 'Airline'])&set(ta.loc[l, 'Airline'])) == 0:\n",
    "                                    train.loc[i, 'Airline'] = list(set(oa.loc[j, 'Airline'])&set(da.loc[k, 'Airline']))[random.randint(0, int(len(list(set(oa.loc[j, 'Airline'])&set(da.loc[k, 'Airline']))))-1)]\n",
    "                                    break\n",
    "                                else:\n",
    "                                    train.loc[i, 'Airline'] = list(set(oa.loc[j, 'Airline'])&set(da.loc[k, 'Airline'])&set(ta.loc[l, 'Airline']))[random.randint(0, int(len(list(set(oa.loc[j, 'Airline'])&set(da.loc[k, 'Airline'])&set(ta.loc[l, 'Airline']))))-1)]\n",
    "                                    break\n",
    "                                break\n",
    "                            l += 1\n",
    "                        break        \n",
    "                    k += 1\n",
    "                break        \n",
    "            j += 1\n",
    "    i += 1"
   ]
  },
  {
   "cell_type": "code",
   "execution_count": null,
   "id": "fe235f9e",
   "metadata": {},
   "outputs": [],
   "source": [
    "i = 0\n",
    "while i <= 999999:\n",
    "    j = 0\n",
    "    if isinstance(train.loc[i, 'Airline'], float):\n",
    "        while j < len(oa['Origin_Airport']):\n",
    "            k = 0\n",
    "            if oa.loc[j, 'Origin_Airport'] == train.loc[i, 'Origin_Airport']:\n",
    "                while k < len(da['Destination_Airport']):\n",
    "                    l = 0\n",
    "                    if da.loc[k, 'Destination_Airport'] == train.loc[i, 'Destination_Airport']:\n",
    "                        \n",
    "                        while l < len(ccod['Carrier_Code(IATA)']):\n",
    "                            if ccod.loc[l, 'Carrier_Code(IATA)'] == train.loc[i, 'Carrier_Code(IATA)']:\n",
    "                                if len(set(oa.loc[j, 'Airline'])&set(da.loc[k, 'Airline'])&set(ccod.loc[l, 'Airline'])) == 0:\n",
    "                                    train.loc[i, 'Airline'] = list(set(oa.loc[j, 'Airline'])&set(da.loc[k, 'Airline']))[random.randint(0, int(len(list(set(oa.loc[j, 'Airline'])&set(da.loc[k, 'Airline']))))-1)]\n",
    "                                    break\n",
    "                                else:\n",
    "                                    train.loc[i, 'Airline'] = list(set(oa.loc[j, 'Airline'])&set(da.loc[k, 'Airline'])&set(ccod.loc[l, 'Airline']))[random.randint(0, int(len(list(set(oa.loc[j, 'Airline'])&set(da.loc[k, 'Airline'])&set(ta.loc[l, 'Airline']))))-1)]\n",
    "                                    break\n",
    "                                break\n",
    "                            l += 1\n",
    "                        break        \n",
    "                    k += 1\n",
    "                break        \n",
    "            j += 1\n",
    "    i += 1"
   ]
  },
  {
   "cell_type": "markdown",
   "id": "24238244",
   "metadata": {},
   "source": [
    "반복문이 좀 어지럽네요. 약간 파도치는거같기도 하고. 저는 컴퓨터 사양이 별로 안좋아서 이거 돌아가는동안 영화한편 보고 왔습니다.\n",
    "\n",
    "gpu에 올려놓고 할까 하는 후회를 좀 하긴 했는데, 어차피 돈받고 하는것도 아니니까 더 귀찮아지는게 싫어서 그냥 넘어갔습니다. 일단 토치 패키지는 다운받아놨는데, 주피터로 열려고 하니까 에러가 나더라구요. vscode랑 파이썬 버전이 달라서 그런가."
   ]
  },
  {
   "cell_type": "code",
   "execution_count": null,
   "id": "5314b893",
   "metadata": {},
   "outputs": [],
   "source": [
    "train.isnull().sum()"
   ]
  },
  {
   "cell_type": "code",
   "execution_count": null,
   "id": "3a16d0b4",
   "metadata": {},
   "outputs": [],
   "source": [
    "i = 0\n",
    "while i <= 999999:\n",
    "    if isinstance(train.loc[i, 'Airline'], float):\n",
    "        j = 0\n",
    "        k = 0\n",
    "        while j < 52:\n",
    "            if train.loc[i, 'Origin_Airport'] == oa.loc[j, 'Origin_Airport']:\n",
    "                while k < 52:\n",
    "                    if train.loc[i, 'Destination_Airport'] == da.loc[k, 'Destination_Airport']:\n",
    "                        train.loc[i, 'Airline'] = list(set(oa.loc[j, 'Airline'])&set(da.loc[k, 'Airline']))[random.randint(0, len(list(set(oa.loc[j, 'Airline'])&set(da.loc[k, 'Airline'])))-1)]\n",
    "                    k += 1\n",
    "            j += 1    \n",
    "        \n",
    "    i += 1"
   ]
  },
  {
   "cell_type": "code",
   "execution_count": null,
   "id": "9ba2d701",
   "metadata": {
    "scrolled": true
   },
   "outputs": [],
   "source": [
    "train.isnull().sum()"
   ]
  },
  {
   "cell_type": "markdown",
   "id": "f870f9f5",
   "metadata": {},
   "source": [
    "다 돌려놓고 생각을 해 보니까 그냥 중첩반복문을 이렇게 몇개나 쓰지 말고 한개 안에 다양한 칼럼들이나 조건들을 욱여넣어서 사용하는게 더 시간을 적게 먹었을텐데 다음에 작성할때는 주의해야겠습니다."
   ]
  },
  {
   "cell_type": "markdown",
   "id": "22f9a554",
   "metadata": {},
   "source": [
    "그래도 많이 줄었네요. 썩 만족스럽지는 않지만, 아무튼 됐습니다. Carrier_Code와 Carrier_ID의 결측치를 함게 메우면서 했으면 결과가 조금 더 잘 나왔지 싶기도 하네요. 하여튼 이제 남은 값들을 airport를 통해서 메우겠습니다"
   ]
  },
  {
   "cell_type": "code",
   "execution_count": null,
   "id": "4e7dd008",
   "metadata": {},
   "outputs": [],
   "source": [
    "while train['Airline'].isnull().sum() > 50:\n",
    "    i = 0\n",
    "    while i <= 999999:\n",
    "        j = 0\n",
    "        if isinstance(train.loc[i, 'Airline'], float):\n",
    "            while j < len(oa['Origin_Airport']):\n",
    "                if train.loc[i, 'Origin_Airport'] == oa.loc[j, 'Origin_Airport']:\n",
    "                    train.loc[i, 'Airline'] = oa.loc[j, 'Airline'][random.randint(0, int(len(oa.loc[j, 'Airline'])-1))]\n",
    "                j += 1\n",
    "        i += 1"
   ]
  },
  {
   "cell_type": "code",
   "execution_count": null,
   "id": "b70229e0",
   "metadata": {},
   "outputs": [],
   "source": [
    "train.isnull().sum()"
   ]
  },
  {
   "cell_type": "markdown",
   "id": "4a76e3eb",
   "metadata": {},
   "source": [
    "남은건 적당히 state 값을 통해서 배치하겠습니다."
   ]
  },
  {
   "cell_type": "code",
   "execution_count": null,
   "id": "a3c5f01c",
   "metadata": {},
   "outputs": [],
   "source": [
    "os = train.groupby(\"Origin_State\")['Airline'].unique().reset_index()"
   ]
  },
  {
   "cell_type": "code",
   "execution_count": null,
   "id": "77cac7d7",
   "metadata": {},
   "outputs": [],
   "source": [
    "i = 0\n",
    "while i <= 999999:\n",
    "    j = 0\n",
    "    if isinstance(train.loc[i, 'Airline'], float):\n",
    "        while j < 52:\n",
    "            if train.loc[i, 'Origin_State'] == os.loc[j, 'Origin_State']:\n",
    "                train.loc[i, 'Airline'] = os.loc[j, 'Airline'][random.randint(0, len(os.loc[j, 'Airline'])-1)]\n",
    "            j += 1\n",
    "    i += 1"
   ]
  },
  {
   "cell_type": "code",
   "execution_count": null,
   "id": "3d42cebf",
   "metadata": {},
   "outputs": [],
   "source": [
    "train.isnull().sum()"
   ]
  },
  {
   "cell_type": "markdown",
   "id": "a354ed74",
   "metadata": {},
   "source": [
    "없어졌네요. 그러면 이제 남은 값은 edt, eat 결측값 처리랑, 아까 그 YNG 공항 처리네요. 먼저 그 공항 처리부터 가볍게 해 보겠습니다."
   ]
  },
  {
   "cell_type": "code",
   "execution_count": null,
   "id": "84740ba0",
   "metadata": {},
   "outputs": [],
   "source": [
    "missing_airport = train[train['Destination_State'].isnull()]['Airline']"
   ]
  },
  {
   "cell_type": "code",
   "execution_count": null,
   "id": "bdf0ada7",
   "metadata": {},
   "outputs": [],
   "source": [
    "\n",
    "train[train['Airline']=='Allegiant Air']['Destination_State'].mode()\n",
    "    "
   ]
  },
  {
   "cell_type": "markdown",
   "id": "11f339fd",
   "metadata": {},
   "source": [
    "플로리다가 모드값이네요. 아까 오하이오였나 그랬던거같은데, 틀리긴 했는데 그래도 해당 값으로 배정하겠습니다."
   ]
  },
  {
   "cell_type": "code",
   "execution_count": null,
   "id": "ce92ceed",
   "metadata": {},
   "outputs": [],
   "source": [
    "train['Destination_State'] = train['Destination_State'].fillna('Florida')"
   ]
  },
  {
   "cell_type": "code",
   "execution_count": null,
   "id": "87ae72f0",
   "metadata": {},
   "outputs": [],
   "source": [
    "train.isnull().sum()"
   ]
  },
  {
   "cell_type": "code",
   "execution_count": null,
   "id": "61d5c91c",
   "metadata": {},
   "outputs": [],
   "source": [
    "train = train.drop(columns = ['Carrier_Code(IATA)', 'Carrier_ID(DOT)'])"
   ]
  },
  {
   "cell_type": "code",
   "execution_count": null,
   "id": "71bf76e4",
   "metadata": {},
   "outputs": [],
   "source": [
    "train.describe()"
   ]
  },
  {
   "cell_type": "code",
   "execution_count": null,
   "id": "8f15435c",
   "metadata": {},
   "outputs": [],
   "source": [
    "train.to_csv(\"C:/vscode/open/final/training2.csv\")"
   ]
  },
  {
   "cell_type": "code",
   "execution_count": null,
   "id": "c2d83539",
   "metadata": {},
   "outputs": [],
   "source": [
    "train = pd.read_csv(\"C:/vscode/open/final/training2a.csv\")"
   ]
  },
  {
   "cell_type": "markdown",
   "id": "4a25c8f0",
   "metadata": {},
   "source": [
    "# edt, eat 칼럼 정리, 날짜변환"
   ]
  },
  {
   "cell_type": "markdown",
   "id": "f24a056b",
   "metadata": {},
   "source": [
    "이제 1440(24 * 60)을 는 & 음수인 edt값을 정리하고, 그걸 날짜에 추가해주도록 하겠습니다."
   ]
  },
  {
   "cell_type": "code",
   "execution_count": null,
   "id": "249ca597",
   "metadata": {},
   "outputs": [],
   "source": [
    "i = 0\n",
    "while i <= 999999:\n",
    "    if train.loc[i, 'eat'] >= 1440:\n",
    "        train.loc[i, 'eat'] -= 1440\n",
    "        train.loc[i, 'aday'] += 1\n",
    "    i += 1"
   ]
  },
  {
   "cell_type": "code",
   "execution_count": null,
   "id": "0549fe22",
   "metadata": {},
   "outputs": [],
   "source": [
    "train['edt'].describe()"
   ]
  },
  {
   "cell_type": "code",
   "execution_count": null,
   "id": "a72d400c",
   "metadata": {},
   "outputs": [],
   "source": [
    "train['aday'].describe()"
   ]
  },
  {
   "cell_type": "code",
   "execution_count": null,
   "id": "eaf3e57e",
   "metadata": {},
   "outputs": [],
   "source": [
    "i = 0\n",
    "while i <= 999999:\n",
    "    if train.loc[i, 'aday'] >= 32:\n",
    "        train.loc[i, 'amonth'] += 1\n",
    "        train.loc[i, 'aday'] = 1\n",
    "    i += 1"
   ]
  },
  {
   "cell_type": "markdown",
   "id": "e557edec",
   "metadata": {},
   "source": [
    "2월에 윤달이 있을수는 있지만, 원본 데이터에 아무런 정보가 없기 때문에 그냥 넘겼습니다. 뭐 그런 케이스가 몇개나 되겠어요."
   ]
  },
  {
   "cell_type": "code",
   "execution_count": null,
   "id": "59a8fb49",
   "metadata": {},
   "outputs": [],
   "source": [
    "i = 0\n",
    "while i <= 999999:\n",
    "    if train.loc[i, 'amonth'] == 2:\n",
    "        if train.loc[i, 'aday'] >= 29:\n",
    "            train.loc[i, 'amonth'] += 1\n",
    "            train.loc[i, 'aday'] -= 28\n",
    "    elif train.loc[i, 'amonth'] in [4, 6, 9, 11]:\n",
    "        if train.loc[i, 'aday'] >= 31:\n",
    "            train.loc[i, 'amonth'] += 1\n",
    "            train.loc[i, 'aday'] -= 30\n",
    "    i += 1"
   ]
  },
  {
   "cell_type": "code",
   "execution_count": null,
   "id": "b79c6661",
   "metadata": {},
   "outputs": [],
   "source": [
    "train.isnull().sum()"
   ]
  },
  {
   "cell_type": "markdown",
   "id": "da53e264",
   "metadata": {},
   "source": [
    "# 테이블 컬럼 정리"
   ]
  },
  {
   "cell_type": "markdown",
   "id": "ef847fb5",
   "metadata": {},
   "source": [
    "이제 안 쓰는 칼럼들, 중간중간 백업-다운로드를 반복하면서 생긴 컬럼들이나 인덱스들을 정리하겠습니다. index=1000000 행은 왜 생긴거지? 아무튼 그렇게 됐습니다."
   ]
  },
  {
   "cell_type": "code",
   "execution_count": null,
   "id": "174ba4ec",
   "metadata": {},
   "outputs": [],
   "source": [
    "train.drop(columns = ['Month', 'Day_of_Month'], inplace=True)"
   ]
  },
  {
   "cell_type": "code",
   "execution_count": null,
   "id": "340793fc",
   "metadata": {},
   "outputs": [],
   "source": [
    "train.drop(columns = 'Unnamed: 0', inplace=True)"
   ]
  },
  {
   "cell_type": "code",
   "execution_count": null,
   "id": "ce023751",
   "metadata": {},
   "outputs": [],
   "source": [
    "train.drop(columns = ['Estimated_Departure_Time', 'Estimated_Arrival_Time'], inplace=True)"
   ]
  },
  {
   "cell_type": "code",
   "execution_count": null,
   "id": "ba1d0acb",
   "metadata": {},
   "outputs": [],
   "source": [
    "train = train.drop(index = 1000000)"
   ]
  },
  {
   "cell_type": "code",
   "execution_count": null,
   "id": "387a9919",
   "metadata": {},
   "outputs": [],
   "source": [
    "train"
   ]
  },
  {
   "cell_type": "code",
   "execution_count": null,
   "id": "26c384f3",
   "metadata": {},
   "outputs": [],
   "source": [
    "train = train[['edt', 'eat', 'dmonth', 'dday', 'amonth', 'aday',\n",
    "       'Origin_Airport', 'Origin_State', 'Destination_Airport',\n",
    "       'Destination_State', 'Distance', 'Airline', 'Tail_Number', 'time', 'Delay']]"
   ]
  },
  {
   "cell_type": "code",
   "execution_count": null,
   "id": "b2ec7eee",
   "metadata": {},
   "outputs": [],
   "source": [
    "train.isnull().sum()"
   ]
  },
  {
   "cell_type": "markdown",
   "id": "5f8009ab",
   "metadata": {},
   "source": [
    "# 모델 적합"
   ]
  },
  {
   "cell_type": "markdown",
   "id": "74c8ca81",
   "metadata": {},
   "source": [
    "여기서 모델 적합은 Delay가 null이 아닌 것만 사용하겠습니다."
   ]
  },
  {
   "cell_type": "code",
   "execution_count": null,
   "id": "61210332",
   "metadata": {},
   "outputs": [],
   "source": [
    "train.to_csv(\"C:/vscode/open/final/training3a.csv\")"
   ]
  },
  {
   "cell_type": "code",
   "execution_count": null,
   "id": "7b400c89",
   "metadata": {},
   "outputs": [],
   "source": [
    "train = pd.read_csv(\"C:/vscode/open/final/training3a.csv\")"
   ]
  },
  {
   "cell_type": "code",
   "execution_count": null,
   "id": "52e9462a",
   "metadata": {},
   "outputs": [],
   "source": [
    "data = train[train['Delay'].notnull()]"
   ]
  },
  {
   "cell_type": "code",
   "execution_count": null,
   "id": "203b4460",
   "metadata": {},
   "outputs": [],
   "source": [
    "target = data['Delay']\n",
    "data.drop(columns = 'Delay', inplace=True)"
   ]
  },
  {
   "cell_type": "code",
   "execution_count": null,
   "id": "7082c82b",
   "metadata": {},
   "outputs": [],
   "source": [
    "data"
   ]
  },
  {
   "cell_type": "code",
   "execution_count": null,
   "id": "d88f64c2",
   "metadata": {},
   "outputs": [],
   "source": [
    "target = target.replace('Not_Delayed', 0).replace('Delayed', 1)"
   ]
  },
  {
   "cell_type": "markdown",
   "id": "c0faca27",
   "metadata": {},
   "source": [
    "그리고 아까 까먹었는데, edt랑 eat를 다시 시간단위로 풀겠습니다.\n",
    "원래처럼 7:20 하는 식으로 바꾼 다음, 분단위를 시간단위 소수점으로 바꿔서 적합할까 합니다."
   ]
  },
  {
   "cell_type": "code",
   "execution_count": null,
   "id": "137f9486",
   "metadata": {},
   "outputs": [],
   "source": [
    "data = data.reset_index()"
   ]
  },
  {
   "cell_type": "code",
   "execution_count": null,
   "id": "ec524eb7",
   "metadata": {},
   "outputs": [],
   "source": [
    "data"
   ]
  },
  {
   "cell_type": "code",
   "execution_count": null,
   "id": "934af74c",
   "metadata": {},
   "outputs": [],
   "source": [
    "target=target.reset_index()"
   ]
  },
  {
   "cell_type": "code",
   "execution_count": null,
   "id": "056979a3",
   "metadata": {},
   "outputs": [],
   "source": [
    "i = 0\n",
    "while i < len(data['edt']):\n",
    "    data.loc[i, 'edt'] = float(data.loc[i, 'edt']//60)*100 + float((data.loc[i, 'edt']%60)/60)\n",
    "    data.loc[i, 'eat'] = float(data.loc[i, 'eat']//60)*100 + float((data.loc[i, 'eat']%60)/60)\n",
    "    i += 1"
   ]
  },
  {
   "cell_type": "markdown",
   "id": "797181f0",
   "metadata": {},
   "source": [
    "이거는 약간 논외의 이야기인데, 사실 달-월을 연 단위로 표준화해서 1-364 스케일링을 할까도 생각했었고, 실제로 작업도 했었는데, 영 결과가 별로더라구요. 그렇다고 그냥 date타입으로 쓰기에는 연도가 항상 기입돼서 나와갖고 그게 좀 불편해서 그냥 저렇게 사용하게 되었습니다."
   ]
  },
  {
   "cell_type": "markdown",
   "id": "bb84d547",
   "metadata": {},
   "source": [
    "이제 Airport, State, Airline, Tail_Number를 LabelEncoding하면 끝나겠네요. 마음같아서는 one-hot encoding을 통해서 더 다양한 모델을 적용해보고 싶었지만 램도 모자라고(이게 굉장히 중요) 컴퓨터 성능도 마뜩치가 않아서 일단은 라벨인코딩으로 진행해야 할 듯 하네요. 아쉽습니다."
   ]
  },
  {
   "cell_type": "code",
   "execution_count": null,
   "id": "72bc8953",
   "metadata": {},
   "outputs": [],
   "source": [
    "from sklearn.preprocessing import LabelEncoder\n",
    "encoder = LabelEncoder()"
   ]
  },
  {
   "cell_type": "code",
   "execution_count": null,
   "id": "7f0e6f93",
   "metadata": {},
   "outputs": [],
   "source": [
    "train.to_csv(\"C:/vscode/open/final/training3b.csv\")"
   ]
  },
  {
   "cell_type": "code",
   "execution_count": null,
   "id": "d90b3a47",
   "metadata": {},
   "outputs": [],
   "source": [
    "encoder1 = encoder.fit(data['Origin_Airport'])\n",
    "data[\"Origin_Airport\"] = encoder1.transform(data['Origin_Airport'])\n",
    "data['Destination_Airport'] = encoder1.transform(data['Destination_Airport'])"
   ]
  },
  {
   "cell_type": "code",
   "execution_count": null,
   "id": "ae2061f8",
   "metadata": {},
   "outputs": [],
   "source": [
    "encoder2 = encoder.fit(data['Destination_State'])\n",
    "data['Origin_State'] = encoder2.transform(data['Origin_State'])\n",
    "data['Destination_State'] = encoder2.transform(data['Destination_State'])"
   ]
  },
  {
   "cell_type": "code",
   "execution_count": null,
   "id": "af0ab9b8",
   "metadata": {},
   "outputs": [],
   "source": [
    "encoder3 = encoder.fit(data['Airline'])\n",
    "data['Airline'] = encoder3.transform(data['Airline'])"
   ]
  },
  {
   "cell_type": "code",
   "execution_count": null,
   "id": "2ff55e5e",
   "metadata": {},
   "outputs": [],
   "source": [
    "data2 = pd.read_csv(\"C:/vscode/open/final/dta.csv\")"
   ]
  },
  {
   "cell_type": "code",
   "execution_count": null,
   "id": "17583661",
   "metadata": {},
   "outputs": [],
   "source": [
    "encoder4 = encoder.fit(data2['Tail_Number'])\n",
    "data2['Tail_Number'] = encoder4.transform(data2['Tail_Number'])"
   ]
  },
  {
   "cell_type": "code",
   "execution_count": null,
   "id": "0cc88b64",
   "metadata": {},
   "outputs": [],
   "source": [
    "encoder4 = encoder.fit(data['Tail_Number'])\n",
    "data['Tail_Number'] = encoder4.transform(data['Tail_Number'])"
   ]
  },
  {
   "cell_type": "code",
   "execution_count": null,
   "id": "91bea0b4",
   "metadata": {},
   "outputs": [],
   "source": [
    "data = data.drop(columns = 'index')"
   ]
  },
  {
   "cell_type": "code",
   "execution_count": null,
   "id": "4eb3c479",
   "metadata": {},
   "outputs": [],
   "source": [
    "data = data.drop(columns = 'Unnamed: 0')"
   ]
  },
  {
   "cell_type": "markdown",
   "id": "72b4e31e",
   "metadata": {},
   "source": [
    "이제 데이터 dtype을 확인하고, 필요한 경우가 생긴다면 조정해주도록 하겠습니다."
   ]
  },
  {
   "cell_type": "code",
   "execution_count": null,
   "id": "7bc6b47e",
   "metadata": {},
   "outputs": [],
   "source": [
    "data.dtypes"
   ]
  },
  {
   "cell_type": "code",
   "execution_count": null,
   "id": "f24bfc30",
   "metadata": {},
   "outputs": [],
   "source": [
    "if 'Unnamed: 0.1' in data.columns:\n",
    "    data.drop(columns = 'Unnamed: 0.1', inplace=True)"
   ]
  },
  {
   "cell_type": "markdown",
   "id": "6259e361",
   "metadata": {},
   "source": [
    "변수들 중, Airport, State, Airline, Tail_Number는 숫자로 남겨두는것보다 카테고리컬로 남겨두는게 더 낫다고 생각하기 때문에, 해당 칼럼들을 카테고리(unordered)로 변환하겠습니다."
   ]
  },
  {
   "cell_type": "code",
   "execution_count": null,
   "id": "272d82ee",
   "metadata": {},
   "outputs": [],
   "source": [
    "data['Origin_Airport']=data['Origin_Airport'].astype('category')"
   ]
  },
  {
   "cell_type": "code",
   "execution_count": null,
   "id": "dc868f68",
   "metadata": {},
   "outputs": [],
   "source": [
    "data['Destination_Airport']=data['Destination_Airport'].astype('category')"
   ]
  },
  {
   "cell_type": "code",
   "execution_count": null,
   "id": "980a4109",
   "metadata": {},
   "outputs": [],
   "source": [
    "data['Origin_State'] = data['Origin_State'].astype('category')"
   ]
  },
  {
   "cell_type": "code",
   "execution_count": null,
   "id": "88f4a3ef",
   "metadata": {},
   "outputs": [],
   "source": [
    "data['Destination_State'] = data['Destination_State'].astype('category')"
   ]
  },
  {
   "cell_type": "code",
   "execution_count": null,
   "id": "54002a06",
   "metadata": {},
   "outputs": [],
   "source": [
    "data['Airline'] = data['Airline'].astype('category')"
   ]
  },
  {
   "cell_type": "code",
   "execution_count": null,
   "id": "5e3b54ae",
   "metadata": {},
   "outputs": [],
   "source": [
    "data['Tail_Number'] = data['Tail_Number'].astype('category')"
   ]
  },
  {
   "cell_type": "code",
   "execution_count": null,
   "id": "2a247a84",
   "metadata": {},
   "outputs": [],
   "source": [
    "col = ['Origin_Airport', 'Destination_Airport', 'Origin_State', 'Destination_State', 'Airline', 'Tail_Number']"
   ]
  },
  {
   "cell_type": "code",
   "execution_count": null,
   "id": "3dfc68b1",
   "metadata": {},
   "outputs": [],
   "source": [
    "for i in col:\n",
    "    data[i] = data[i].cat.as_unordered()"
   ]
  },
  {
   "cell_type": "code",
   "execution_count": null,
   "id": "8116c78e",
   "metadata": {},
   "outputs": [],
   "source": [
    "from sklearn.preprocessing import StandardScaler"
   ]
  },
  {
   "cell_type": "code",
   "execution_count": null,
   "id": "358eaa94",
   "metadata": {},
   "outputs": [],
   "source": [
    "scaler = StandardScaler()"
   ]
  },
  {
   "cell_type": "code",
   "execution_count": null,
   "id": "7406faa2",
   "metadata": {},
   "outputs": [],
   "source": [
    "scaler.fit(pd.DataFrame(data['Distance']))"
   ]
  },
  {
   "cell_type": "code",
   "execution_count": null,
   "id": "f4d6d9b7",
   "metadata": {},
   "outputs": [],
   "source": [
    "data.dtypes"
   ]
  },
  {
   "cell_type": "markdown",
   "id": "67e7f390",
   "metadata": {},
   "source": [
    "그냥 처음부터 함수로 할걸 그랬네요."
   ]
  },
  {
   "cell_type": "markdown",
   "id": "f008dc1c",
   "metadata": {},
   "source": [
    "하여튼 이젠 대충 다 됐으니, 모델 적합을 시켜보겠습니다. "
   ]
  },
  {
   "cell_type": "code",
   "execution_count": null,
   "id": "6729718b",
   "metadata": {},
   "outputs": [],
   "source": [
    "target"
   ]
  },
  {
   "cell_type": "code",
   "execution_count": null,
   "id": "45beea8e",
   "metadata": {},
   "outputs": [],
   "source": [
    "target.drop(columns = 'index', inplace=True)"
   ]
  },
  {
   "cell_type": "code",
   "execution_count": null,
   "id": "de3363c0",
   "metadata": {
    "scrolled": true
   },
   "outputs": [],
   "source": [
    "target['Delay'] = target['Delay'].astype('int')"
   ]
  },
  {
   "cell_type": "code",
   "execution_count": null,
   "id": "52777156",
   "metadata": {},
   "outputs": [],
   "source": [
    "i = 0\n",
    "while i < len(target['Delay']):\n",
    "    if target.loc[i, 'Delay'] == 0:\n",
    "        target.loc[i, 'Delayed'] = 0\n",
    "        target.loc[i, 'Not_Delayed'] = 1\n",
    "    else:\n",
    "        target.loc[i, 'Delayed'] = 1\n",
    "        target.loc[i, 'Not_Delayed'] = 0\n",
    "    i += 1"
   ]
  },
  {
   "cell_type": "code",
   "execution_count": null,
   "id": "d7e8f1a5",
   "metadata": {},
   "outputs": [],
   "source": [
    "target.drop(columns = 'Delay', inplace=True)\n",
    "\n",
    "target['Delayed'] = target['Delayed'].astype('int')\n",
    "target['Not_Delayed'] = target['Not_Delayed'].astype('int')"
   ]
  },
  {
   "cell_type": "code",
   "execution_count": null,
   "id": "98c8083e",
   "metadata": {},
   "outputs": [],
   "source": [
    "from sklearn.model_selection import train_test_split\n",
    "\n",
    "xtrain, xtest, ytrain, ytest = train_test_split(data, target, test_size=0.25)"
   ]
  },
  {
   "cell_type": "markdown",
   "id": "9416563b",
   "metadata": {},
   "source": [
    "저는 왠지는 몰라도 0.25가 좀 손이 가더라구요. 뭔가 비율이 안정돼보여서 그런가. "
   ]
  },
  {
   "cell_type": "markdown",
   "id": "a7263355",
   "metadata": {},
   "source": [
    "모델은 xgboost xgbclassifier을 사용해볼까 합니다. 이것도 영 별로면 랜덤포레스트나 lightgbm을 사용할수는 있을텐데, lightgbm은 딱히 익숙하지가 않아서 그냥 xgb로 잘 나왔으면 좋겠네요."
   ]
  },
  {
   "cell_type": "code",
   "execution_count": null,
   "id": "9049b916",
   "metadata": {},
   "outputs": [],
   "source": [
    "import xgboost as xgb"
   ]
  },
  {
   "cell_type": "code",
   "execution_count": null,
   "id": "42005f6b",
   "metadata": {},
   "outputs": [],
   "source": [
    "from xgboost import XGBClassifier"
   ]
  },
  {
   "cell_type": "code",
   "execution_count": null,
   "id": "83344c6c",
   "metadata": {},
   "outputs": [],
   "source": [
    "dtrain = xgb.DMatrix(data = xtrain, label = ytrain, enable_categorical=True)\n",
    "\n",
    "dtest = xgb.DMatrix(data = xtest, label = ytest, enable_categorical=True)\n",
    "\n",
    "params = {'max_depth':14, \n",
    "          'learning_rate':0.03,  \n",
    "          'scale_pos_weight':5, \n",
    "          'min_child_weight':3, \n",
    "          'objective' : 'binary:logistic',\n",
    "          'eval_metric':'logloss',\n",
    "          'booster':'gbtree'}\n",
    "\n",
    "num_rounds = 150"
   ]
  },
  {
   "cell_type": "code",
   "execution_count": null,
   "id": "3370dc59",
   "metadata": {},
   "outputs": [],
   "source": [
    "xgbmodel = xgb.train(params = params, num_boost_round = num_rounds, dtrain=dtrain)"
   ]
  },
  {
   "cell_type": "code",
   "execution_count": null,
   "id": "d7c197e0",
   "metadata": {},
   "outputs": [],
   "source": [
    "pred = xgbmodel.predict(dtest)"
   ]
  },
  {
   "cell_type": "markdown",
   "id": "e20b8f92",
   "metadata": {},
   "source": [
    "규칙상 모델 평가는 log_loss를 통해 이루어져서, 저도 평가 모델로 로그로스를 채용하도록 하겠습니다."
   ]
  },
  {
   "cell_type": "code",
   "execution_count": null,
   "id": "e506c919",
   "metadata": {},
   "outputs": [],
   "source": [
    "from sklearn.metrics import log_loss"
   ]
  },
  {
   "cell_type": "code",
   "execution_count": null,
   "id": "106b5f50",
   "metadata": {},
   "outputs": [],
   "source": [
    "log_loss(ytest, pred)"
   ]
  },
  {
   "cell_type": "code",
   "execution_count": null,
   "id": "fd27978e",
   "metadata": {},
   "outputs": [],
   "source": [
    "pred"
   ]
  },
  {
   "cell_type": "markdown",
   "id": "0f28c230",
   "metadata": {},
   "source": [
    "0.47정도면 썩 엄청 좋지는 않은데, 그렇다고 엄청 나쁘지도 않긴 하네요. 아마 test파일을 직접 넣으면 이것보다 못하게 나올것같긴 한데, 뭐 됐습니다. 일단 해보면 알겠죠."
   ]
  },
  {
   "cell_type": "markdown",
   "id": "46a2c220",
   "metadata": {},
   "source": [
    "이제 위에 있는 전체를 test에도 동일하게 돌려서 만들어보면 되지 않을까 합니다. 약간 벌써부터 컴퓨터 하루종일 돌아갈거 생각하면 약간 아찔하긴 한데, 해봐야겠죠."
   ]
  },
  {
   "cell_type": "code",
   "execution_count": null,
   "id": "200f7f9e",
   "metadata": {},
   "outputs": [],
   "source": [
    "testdata = pd.read_csv(\"C:/vscode/open/final/testdata4.csv\")"
   ]
  },
  {
   "cell_type": "code",
   "execution_count": null,
   "id": "82993e45",
   "metadata": {},
   "outputs": [],
   "source": [
    "testdata2 = pd.read_csv(\"C:/vscode/open/final/testdata4.csv\")"
   ]
  },
  {
   "cell_type": "markdown",
   "id": "d36e52f2",
   "metadata": {},
   "source": [
    "테스트데이터는 동일한 프로세스에서 인코딩을 앞둔 지점에서 끌고왔습니다. 뭐 거의 다했죠. 이번에도 영화 한편 보고 왔습니다.\n",
    "\n",
    "어쩌면 유튜브... 넷플릭스... 라프텔... 현대인의 필수 서비스가 아닐지..."
   ]
  },
  {
   "cell_type": "markdown",
   "id": "2510d7e6",
   "metadata": {},
   "source": [
    "이하의 encoding들은 제가 한번 까먹어서 차후에 덧붙여진 부분입니다.\n",
    "\n",
    "encoding을 까먹고 했을 때 점수가 더 잘 나오던데, 도대체 어떤 매커니즘으로 정답지를 만든건지 잘 모르겠네요."
   ]
  },
  {
   "cell_type": "code",
   "execution_count": null,
   "id": "7b51f930",
   "metadata": {},
   "outputs": [],
   "source": []
  },
  {
   "cell_type": "markdown",
   "id": "2507fa84",
   "metadata": {},
   "source": [
    "TestData 인코딩 및 결측치 처리"
   ]
  },
  {
   "cell_type": "code",
   "execution_count": null,
   "id": "7a9f66dc",
   "metadata": {},
   "outputs": [],
   "source": [
    "for label in np.unique(testdata['Origin_Airport']):\n",
    "    if label not in encoder1.classes_:\n",
    "        encoder1.classes_ = np.append(encoder1.classes_, label)"
   ]
  },
  {
   "cell_type": "code",
   "execution_count": null,
   "id": "c3e45d8f",
   "metadata": {},
   "outputs": [],
   "source": [
    "testdata['Origin_Airport'] = encoder1.transform(testdata['Origin_Airport'])\n",
    "testdata['Destination_Airport'] = encoder1.transform(testdata['Destination_Airport'])"
   ]
  },
  {
   "cell_type": "code",
   "execution_count": null,
   "id": "fe9b8b8c",
   "metadata": {},
   "outputs": [],
   "source": [
    "testdata['Origin_State'].mode()"
   ]
  },
  {
   "cell_type": "code",
   "execution_count": null,
   "id": "980dae04",
   "metadata": {},
   "outputs": [],
   "source": [
    "testdata['Destination_State'].mode()"
   ]
  },
  {
   "cell_type": "code",
   "execution_count": null,
   "id": "5252add4",
   "metadata": {},
   "outputs": [],
   "source": [
    "testdata['Origin_State'] = testdata['Origin_State'].fillna('California')"
   ]
  },
  {
   "cell_type": "code",
   "execution_count": null,
   "id": "93d5d3a6",
   "metadata": {},
   "outputs": [],
   "source": [
    "testdata['Destination_State'] = testdata['Destination_State'].fillna('California')"
   ]
  },
  {
   "cell_type": "code",
   "execution_count": null,
   "id": "8ff338a0",
   "metadata": {},
   "outputs": [],
   "source": [
    "testdata['Origin_State'] = encoder2.transform(testdata['Origin_State'])\n",
    "testdata['Destination_State'] = encoder2.transform(testdata['Destination_State'])"
   ]
  },
  {
   "cell_type": "code",
   "execution_count": null,
   "id": "e90c4db7",
   "metadata": {},
   "outputs": [],
   "source": [
    "testdata['Airline'].mode()"
   ]
  },
  {
   "cell_type": "code",
   "execution_count": null,
   "id": "76bd11e8",
   "metadata": {},
   "outputs": [],
   "source": [
    "testdata['Airline'] = testdata['Airline'].fillna(\"Southwest Airlines Co.\")"
   ]
  },
  {
   "cell_type": "code",
   "execution_count": null,
   "id": "894f1a0d",
   "metadata": {},
   "outputs": [],
   "source": [
    "for label in np.unique(testdata['Airline']):\n",
    "    if label not in encoder3.classes_:\n",
    "        encoder3.classes = np.append(encoder3.classes_, label)"
   ]
  },
  {
   "cell_type": "code",
   "execution_count": null,
   "id": "f23cd545",
   "metadata": {},
   "outputs": [],
   "source": [
    "testdata['Airline'] = encoder3.transform(testdata['Airline'])"
   ]
  },
  {
   "cell_type": "code",
   "execution_count": null,
   "id": "0a990217",
   "metadata": {},
   "outputs": [],
   "source": [
    "for label in np.unique(testdata['Tail_Number']):\n",
    "    if label not in encoder4.classes_:\n",
    "        encoder4.classes_ = np.append(encoder4.classes_, label)"
   ]
  },
  {
   "cell_type": "code",
   "execution_count": null,
   "id": "845a7f0e",
   "metadata": {},
   "outputs": [],
   "source": [
    "testdata['Tail_Number'] = encoder4.transform(testdata['Tail_Number'])"
   ]
  },
  {
   "cell_type": "code",
   "execution_count": null,
   "id": "ad963b1a",
   "metadata": {},
   "outputs": [],
   "source": [
    "samsub = pd.read_csv(\"C:/vscode/open/sample_submission.csv\")"
   ]
  },
  {
   "cell_type": "code",
   "execution_count": null,
   "id": "26e7a6a5",
   "metadata": {},
   "outputs": [],
   "source": [
    "testdata.isnull().sum()"
   ]
  },
  {
   "cell_type": "code",
   "execution_count": null,
   "id": "48af90e3",
   "metadata": {},
   "outputs": [],
   "source": [
    "testdata['Distance'] = scaler.transform(pd.DataFrame(testdata['Distance']))"
   ]
  },
  {
   "cell_type": "code",
   "execution_count": null,
   "id": "9495876d",
   "metadata": {},
   "outputs": [],
   "source": [
    "testdata"
   ]
  },
  {
   "cell_type": "code",
   "execution_count": null,
   "id": "f24042a0",
   "metadata": {},
   "outputs": [],
   "source": [
    "data"
   ]
  },
  {
   "cell_type": "markdown",
   "id": "cbca8b39",
   "metadata": {},
   "source": [
    "아직 State와 Airline에 약간 결측값이 남아있네요. 이번 데이터에는 YNG같은 공항이 몇개 더 있나봅니다. 어쩔 수 없죠. 수가 많지는 않으니 그냥 채워주겠습니다."
   ]
  },
  {
   "cell_type": "code",
   "execution_count": null,
   "id": "665a77ab",
   "metadata": {},
   "outputs": [],
   "source": [
    "testdata.drop(columns = ['Unnamed: 0'], inplace=True)"
   ]
  },
  {
   "cell_type": "markdown",
   "id": "829b390e",
   "metadata": {},
   "source": [
    "이제 필요한 컬럼들의 데이터타입을 변경하도록 하겠습니다. 위에서 한 대로 state, airport, airline, tailnumber 값들을 변경하겠습니다."
   ]
  },
  {
   "cell_type": "code",
   "execution_count": null,
   "id": "b501bb28",
   "metadata": {},
   "outputs": [],
   "source": [
    "clist = ['Origin_Airport', 'Origin_State', 'Destination_State', 'Destination_Airport', 'Airline', 'Tail_Number']"
   ]
  },
  {
   "cell_type": "code",
   "execution_count": null,
   "id": "f7a7bc49",
   "metadata": {},
   "outputs": [],
   "source": [
    "for i in clist:\n",
    "    testdata[i] = testdata[i].astype('category')\n",
    "    testdata[i] = testdata[i].cat.as_unordered()"
   ]
  },
  {
   "cell_type": "code",
   "execution_count": null,
   "id": "47f519c9",
   "metadata": {},
   "outputs": [],
   "source": []
  },
  {
   "cell_type": "code",
   "execution_count": null,
   "id": "07d10f3f",
   "metadata": {},
   "outputs": [],
   "source": [
    "testdata"
   ]
  },
  {
   "cell_type": "code",
   "execution_count": null,
   "id": "4bfc78d0",
   "metadata": {},
   "outputs": [],
   "source": [
    "testdata.dtypes"
   ]
  },
  {
   "cell_type": "markdown",
   "id": "d5566832",
   "metadata": {},
   "source": [
    "정리가 다 됐네요. 그럼 샘플 서브미션 파일을 정리하고 모델에 적합하겠습니다."
   ]
  },
  {
   "cell_type": "markdown",
   "id": "683fe59c",
   "metadata": {},
   "source": [
    "# Model Predict I"
   ]
  },
  {
   "cell_type": "code",
   "execution_count": null,
   "id": "188d1c38",
   "metadata": {},
   "outputs": [],
   "source": [
    "samid = samsub['ID']"
   ]
  },
  {
   "cell_type": "code",
   "execution_count": null,
   "id": "4f9daa97",
   "metadata": {},
   "outputs": [],
   "source": [
    "samsub.drop(columns = 'ID', inplace=True)"
   ]
  },
  {
   "cell_type": "code",
   "execution_count": null,
   "id": "c5144c20",
   "metadata": {},
   "outputs": [],
   "source": [
    "samsub = samsub[['Delayed', 'Not_Delayed']]"
   ]
  },
  {
   "cell_type": "code",
   "execution_count": null,
   "id": "7e8bce39",
   "metadata": {},
   "outputs": [],
   "source": [
    "dsubmit = xgb.DMatrix(data = testdata, label = samsub, enable_categorical=True)"
   ]
  },
  {
   "cell_type": "code",
   "execution_count": null,
   "id": "532b8e9c",
   "metadata": {},
   "outputs": [],
   "source": [
    "submis1 = xgbmodel.predict(dsubmit)"
   ]
  },
  {
   "cell_type": "code",
   "execution_count": null,
   "id": "22aeef91",
   "metadata": {},
   "outputs": [],
   "source": [
    "submis1 = pd.DataFrame(submis1)"
   ]
  },
  {
   "cell_type": "code",
   "execution_count": null,
   "id": "9f35f221",
   "metadata": {},
   "outputs": [],
   "source": [
    "samsub1 = pd.concat([samid, submis1], axis=1)"
   ]
  },
  {
   "cell_type": "code",
   "execution_count": null,
   "id": "556c473a",
   "metadata": {},
   "outputs": [],
   "source": [
    "samsub1.columns = ['ID', 'Delayed', 'Not_Delayed']"
   ]
  },
  {
   "cell_type": "code",
   "execution_count": null,
   "id": "e627cfa2",
   "metadata": {},
   "outputs": [],
   "source": [
    "samsub1 = samsub1[[\"ID\", \"Not_Delayed\", 'Delayed']]"
   ]
  },
  {
   "cell_type": "code",
   "execution_count": null,
   "id": "fd71e109",
   "metadata": {},
   "outputs": [],
   "source": [
    "samsub1"
   ]
  },
  {
   "cell_type": "code",
   "execution_count": null,
   "id": "86562023",
   "metadata": {},
   "outputs": [],
   "source": [
    "samsub1 = samsub1.set_index(\"ID\")"
   ]
  },
  {
   "cell_type": "code",
   "execution_count": null,
   "id": "b44e3c65",
   "metadata": {},
   "outputs": [],
   "source": [
    "samsub1"
   ]
  },
  {
   "cell_type": "code",
   "execution_count": null,
   "id": "44e0437a",
   "metadata": {},
   "outputs": [],
   "source": [
    "samsub1.to_csv(\"C:/vscode/open/submission/samsub9.csv\")"
   ]
  },
  {
   "cell_type": "markdown",
   "id": "30c14ce9",
   "metadata": {},
   "source": [
    "# Model Predict II"
   ]
  },
  {
   "cell_type": "markdown",
   "id": "9dd3a669",
   "metadata": {},
   "source": [
    "얻어낸 모델의 확률(XGBOOST XGBClassifier의 Binary Logistic은 이진변수의 각 항목에 대한 확률값을 리턴합니다)을 합 1로 맞춰 주겠습니다."
   ]
  },
  {
   "cell_type": "code",
   "execution_count": null,
   "id": "6908337e",
   "metadata": {},
   "outputs": [],
   "source": [
    "samsub2 = samsub1.copy()"
   ]
  },
  {
   "cell_type": "code",
   "execution_count": null,
   "id": "772ab557",
   "metadata": {},
   "outputs": [],
   "source": [
    "samsub2 = samsub2.reset_index()"
   ]
  },
  {
   "cell_type": "code",
   "execution_count": null,
   "id": "39d15f2e",
   "metadata": {},
   "outputs": [],
   "source": [
    "i = 0\n",
    "while i < 1000000:\n",
    "    samsub2.loc[i, 'Not_Delayed'] = samsub2.loc[i, 'Not_Delayed']/(samsub2.loc[i, 'Not_Delayed']+samsub2.loc[i, \"Delayed\"])\n",
    "    samsub2.loc[i, \"Delayed\"] = samsub2.loc[i, 'Delayed']/(samsub2.loc[i, 'Not_Delayed']+samsub2.loc[i, \"Delayed\"])\n",
    "    i += 1"
   ]
  },
  {
   "cell_type": "code",
   "execution_count": null,
   "id": "4777dac9",
   "metadata": {},
   "outputs": [],
   "source": [
    "samsub2 = samsub2.set_index(\"ID\")"
   ]
  },
  {
   "cell_type": "code",
   "execution_count": null,
   "id": "68f0c90b",
   "metadata": {},
   "outputs": [],
   "source": [
    "samsub2.to_csv(\"C:/vscode/open/submission/samsub10.csv\")"
   ]
  },
  {
   "cell_type": "markdown",
   "id": "9f2e5447",
   "metadata": {},
   "source": [
    "dacon 사이트가 난리가 났길래(train된 모델의 delay 비율보다 공개되지 않은 정답의 delay 비율이 훨씬 높은것이 아니냐 하는 문제가 터졌길래) 저도 한번 확률을 임의로 주작해서 띄워보기로 했습니다. "
   ]
  },
  {
   "cell_type": "code",
   "execution_count": null,
   "id": "14dc6ead",
   "metadata": {},
   "outputs": [],
   "source": [
    "samsub3 = samsub2.copy().reset_index()"
   ]
  },
  {
   "cell_type": "code",
   "execution_count": null,
   "id": "e6df4a3e",
   "metadata": {},
   "outputs": [],
   "source": [
    "i = 0\n",
    "while i <= 999999:\n",
    "    samsub3.loc[i, 'Not_Delayed'] = samsub3.loc[i, 'Not_Delayed'] - 0.1\n",
    "    samsub3.loc[i, 'Delayed'] = samsub3.loc[i, 'Delayed'] +0.1\n",
    "    i += 1"
   ]
  },
  {
   "cell_type": "code",
   "execution_count": null,
   "id": "e422e25b",
   "metadata": {},
   "outputs": [],
   "source": [
    "samsub3=pd.concat([samid, samsub3], axis=1)"
   ]
  },
  {
   "cell_type": "code",
   "execution_count": null,
   "id": "8d836e4e",
   "metadata": {},
   "outputs": [],
   "source": [
    "samsub3 = samsub3.set_index(\"ID\")"
   ]
  },
  {
   "cell_type": "code",
   "execution_count": null,
   "id": "e0e36b3b",
   "metadata": {},
   "outputs": [],
   "source": [
    "samsub3"
   ]
  },
  {
   "cell_type": "markdown",
   "id": "c8648b50",
   "metadata": {},
   "source": [
    "지금보니까 인코딩도 안하고 그냥 학습시켜서 제출했는데 지금까지 제출한 다른 모든 파일보다 더 높은 점수를 받았네요\n",
    "\n",
    "안그래도 그것때문에 사이트에 난리가 났던데 도대체 정답 테이블에 어떤 알고리즘을 넣은건지... 갑자기 좀 빡치긴 하는데 일단 계속 하겠습니다"
   ]
  },
  {
   "cell_type": "markdown",
   "id": "834060ac",
   "metadata": {},
   "source": [
    "결과 : sub3값이 제일 결과가 높네요. 인코딩을 하든, 하지 않았든, 유의미하게 결과물을 임의로 바꾼 것의 평가점수가 더 좋게 나왔습니다. 이건 뭐 제가 작업한게 문제인건지..."
   ]
  }
 ],
 "metadata": {
  "kernelspec": {
   "display_name": "Python 3 (ipykernel)",
   "language": "python",
   "name": "python3"
  },
  "language_info": {
   "codemirror_mode": {
    "name": "ipython",
    "version": 3
   },
   "file_extension": ".py",
   "mimetype": "text/x-python",
   "name": "python",
   "nbconvert_exporter": "python",
   "pygments_lexer": "ipython3",
   "version": "3.9.7"
  }
 },
 "nbformat": 4,
 "nbformat_minor": 5
}
